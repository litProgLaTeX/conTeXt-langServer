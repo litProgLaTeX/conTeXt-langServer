{
 "cells": [
  {
   "cell_type": "markdown",
   "id": "c3f527c2-6fb3-4937-8828-8143332a4526",
   "metadata": {},
   "source": [
    "Welcome to the ConTeXt-LangServer explorer.\n",
    "\n",
    "This is a simple Jupyter-Lab notebook to allow us to explore the interaction between our evolving ConTeXt-LangServer and this simple [pygls](https://github.com/openlawlibrary/pygls) based LSP client."
   ]
  },
  {
   "cell_type": "markdown",
   "id": "fb048cbd-fd08-4d85-aa2f-47d5549e6228",
   "metadata": {},
   "source": [
    "To help us explore the LSP server we can use the:\n",
    "\n",
    "- [LSP specification](https://microsoft.github.io/language-server-protocol/specifications/specification-current)\n",
    "- [vscode-languageserver-node](https://github.com/microsoft/vscode-languageserver-node) ([Language Server Extension Guide](https://code.visualstudio.com/api/language-extensions/language-server-extension-guide))\n",
    "  - [server](https://github.com/microsoft/vscode-languageserver-node/tree/main/server)\n",
    "- [(python) lsprotocol](https://github.com/microsoft/lsprotocol/tree/main/packages/python) (The [types.py](https://github.com/microsoft/lsprotocol/blob/main/packages/python/lsprotocol/types.py) is used by pygls to provide the python class structures associated with the specification).\n",
    "- [Pygls](https://github.com/openlawlibrary/pygls) [documentation](https://pygls.readthedocs.io/en/latest/) (provides the basic python LSP client)\n",
    "- [Pygls Client class](https://github.com/openlawlibrary/pygls/blob/master/pygls/client.py) (provides a list of the methods which can be used to add LSP features as well as JSON-RPC commands to the client/server interface).\n",
    "- [Pygls LangaugeClient(Client) class](https://github.com/openlawlibrary/pygls/blob/master/pygls/lsp/client.py) (provides a list of the LSP requests (both synchronous and asynchronous) which the LanguageClient implements).\n",
    "\n",
    "It is very important to notice that we are currently using a pre-released version of pygls (since the *currently released* version, v1.0.2, does not *yet* implement the `LanguageClient` class)."
   ]
  },
  {
   "cell_type": "markdown",
   "id": "482a5178-c6a3-4bd8-a1b3-04e53af58cab",
   "metadata": {},
   "source": [
    "We start by running the `setupClient.py` script to import pygls and create our LSP client"
   ]
  },
  {
   "cell_type": "code",
   "execution_count": 1,
   "id": "b4e243d4-ffbb-4bc6-a8ab-0b1138f9a7c7",
   "metadata": {
    "jupyter": {
     "source_hidden": true
    }
   },
   "outputs": [],
   "source": [
    "%run setupClient.py"
   ]
  },
  {
   "cell_type": "markdown",
   "id": "a3d9b2bc-6c4c-41be-8291-d33e58b1e356",
   "metadata": {},
   "source": [
    "Once we have a client we can use it to start the `context-langserver` (using JSON-RPC over `stdio`)"
   ]
  },
  {
   "cell_type": "code",
   "execution_count": 2,
   "id": "3f478100-e03f-4ad4-9ce5-0618f9a0d279",
   "metadata": {},
   "outputs": [],
   "source": [
    "await client.start_io('context-langserver', '--stdio')"
   ]
  },
  {
   "cell_type": "markdown",
   "id": "3ebae6e3-4893-4539-a7f2-bd75e837b23f",
   "metadata": {},
   "source": [
    "Before we do anything else we need to initialize the LSP client/server interface using the [InitializeParams](https://microsoft.github.io/language-server-protocol/specifications/lsp/3.17/specification/#initializeParams) ([types](https://github.com/microsoft/lsprotocol/blob/main/packages/python/lsprotocol/types.py#L3026)) and [ClientCapabilities](https://microsoft.github.io/language-server-protocol/specifications/lsp/3.17/specification/#clientCapabilities) ([types](https://github.com/microsoft/lsprotocol/blob/main/packages/python/lsprotocol/types.py#L6927)) classes."
   ]
  },
  {
   "cell_type": "code",
   "execution_count": 3,
   "id": "48c80836-b8ad-47d9-b56b-aeda880a9778",
   "metadata": {},
   "outputs": [],
   "source": [
    "response = await client.initialize_async(InitializeParams(\n",
    "    capabilities=ClientCapabilities(\n",
    "        workspace=WorkspaceClientCapabilities(\n",
    "            configuration=True\n",
    "        )\n",
    "    )\n",
    "))"
   ]
  },
  {
   "cell_type": "markdown",
   "id": "54874fb3-c159-4142-9039-8e837d18917a",
   "metadata": {},
   "source": [
    "The `ConTeXt-LangServer` responds with a (static) [InitializeResult](https://microsoft.github.io/language-server-protocol/specifications/lsp/3.17/specification/#initializeResult) whose most important field is the [ServerCapabilities](https://microsoft.github.io/language-server-protocol/specifications/lsp/3.17/specification/#serverCapabilities)"
   ]
  },
  {
   "cell_type": "code",
   "execution_count": 4,
   "id": "9e636850-b148-41d2-af83-1e9a058952ef",
   "metadata": {},
   "outputs": [],
   "source": [
    "#print(yaml.dump(response))"
   ]
  },
  {
   "cell_type": "markdown",
   "id": "abf7a82d-7773-4e88-b653-31cf15043d7d",
   "metadata": {},
   "source": [
    "Once we have the server's response, we need to send an [Initialized](https://microsoft.github.io/language-server-protocol/specifications/lsp/3.17/specification/#initialized) notification using the [initialized](https://github.com/openlawlibrary/pygls/blob/master/pygls/lsp/client.py#L1838) method."
   ]
  },
  {
   "cell_type": "code",
   "execution_count": 5,
   "id": "ab576cc7-4b2e-4f9a-a81c-ef809c113be4",
   "metadata": {},
   "outputs": [],
   "source": [
    "client.initialized(InitializedParams())"
   ]
  },
  {
   "cell_type": "code",
   "execution_count": 6,
   "id": "4b444a35-d1c4-490d-9bca-299f2fe6b13d",
   "metadata": {},
   "outputs": [
    {
     "name": "stdout",
     "output_type": "stream",
     "text": [
      "- !!python/object:lsprotocol.types.RegistrationParams\n",
      "  registrations:\n",
      "  - !!python/object:lsprotocol.types.Registration\n",
      "    id: 7ae181ce-660b-4852-b6b1-3e633e342689\n",
      "    method: workspace/didChangeConfiguration\n",
      "    register_options: {}\n",
      "\n"
     ]
    }
   ],
   "source": [
    "print(yaml.dump(registrations))"
   ]
  },
  {
   "cell_type": "code",
   "execution_count": 7,
   "id": "f27dbb30-0a66-4c9a-907e-daf8568b15e0",
   "metadata": {},
   "outputs": [],
   "source": [
    "response = await client.server_configuration_async(None)"
   ]
  },
  {
   "cell_type": "code",
   "execution_count": 8,
   "id": "6885bf8a-20cc-4d24-a2a3-7379f1d033b1",
   "metadata": {},
   "outputs": [
    {
     "name": "stdout",
     "output_type": "stream",
     "text": [
      "hasConfigurationCapability: true\n",
      "hasDiagnosticRelatedInformationCapability: false\n",
      "hasWorkspaceFolderCapability: false\n",
      "\n"
     ]
    }
   ],
   "source": [
    "print(yaml.dump(response))"
   ]
  },
  {
   "cell_type": "markdown",
   "id": "3c563664-756f-48bd-afcc-80dfeaa3b6eb",
   "metadata": {},
   "source": [
    "In response to the client's initialized notification, the server may send a number of dynamic [client/registerCapability](https://microsoft.github.io/language-server-protocol/specifications/lsp/3.17/specification/#client_registerCapability) requests (with null repsonses).\n",
    "\n",
    "Our language client captures these registration requests and places each one into the `registrations` array on a first come first appended basis."
   ]
  },
  {
   "cell_type": "code",
   "execution_count": 8,
   "id": "58edee8e-6048-46f7-a8f4-abdc5fc58e37",
   "metadata": {},
   "outputs": [],
   "source": [
    "#print(yaml.dump(registrations))"
   ]
  },
  {
   "cell_type": "markdown",
   "id": "f3d2302f-a849-4967-bb36-cdfa0615b80f",
   "metadata": {},
   "source": [
    "We play with the existing `onCompletion` request."
   ]
  },
  {
   "cell_type": "code",
   "execution_count": 9,
   "id": "0de0f5c2-2e28-48e2-8585-bddc3f492fed",
   "metadata": {},
   "outputs": [],
   "source": [
    "response = await client.text_document_completion_async(CompletionParams(\n",
    "    text_document=TextDocumentIdentifier(\n",
    "        uri=\"silly\"\n",
    "    ),\n",
    "    position=Position(\n",
    "        line=1,\n",
    "        character=3\n",
    "    )\n",
    "))"
   ]
  },
  {
   "cell_type": "code",
   "execution_count": 10,
   "id": "d8bb434c-64da-4b29-9750-4cef3d309edd",
   "metadata": {},
   "outputs": [
    {
     "name": "stdout",
     "output_type": "stream",
     "text": [
      "- !!python/object:lsprotocol.types.CompletionItem\n",
      "  additional_text_edits: null\n",
      "  command: null\n",
      "  commit_characters: null\n",
      "  data: 1\n",
      "  deprecated: null\n",
      "  detail: null\n",
      "  documentation: null\n",
      "  filter_text: null\n",
      "  insert_text: null\n",
      "  insert_text_format: null\n",
      "  insert_text_mode: null\n",
      "  kind: !!python/object/apply:builtins.getattr\n",
      "  - &id001 !!python/name:lsprotocol.types.CompletionItemKind ''\n",
      "  - Text\n",
      "  label: TypeScript\n",
      "  label_details: null\n",
      "  preselect: null\n",
      "  sort_text: null\n",
      "  tags: null\n",
      "  text_edit: null\n",
      "  text_edit_text: null\n",
      "- !!python/object:lsprotocol.types.CompletionItem\n",
      "  additional_text_edits: null\n",
      "  command: null\n",
      "  commit_characters: null\n",
      "  data: 2\n",
      "  deprecated: null\n",
      "  detail: null\n",
      "  documentation: null\n",
      "  filter_text: null\n",
      "  insert_text: null\n",
      "  insert_text_format: null\n",
      "  insert_text_mode: null\n",
      "  kind: !!python/object/apply:builtins.getattr\n",
      "  - *id001\n",
      "  - Text\n",
      "  label: JavaScript\n",
      "  label_details: null\n",
      "  preselect: null\n",
      "  sort_text: null\n",
      "  tags: null\n",
      "  text_edit: null\n",
      "  text_edit_text: null\n",
      "\n"
     ]
    }
   ],
   "source": [
    "print(yaml.dump(response))"
   ]
  },
  {
   "cell_type": "markdown",
   "id": "89b54faa-861f-44f1-97f1-8a27f99e7eb7",
   "metadata": {},
   "source": [
    "The *primary* objective of the `ConTeXt-LangServer` is to provide the editor with an overview of the *structure* of the ConTeXt document.\n",
    "\n",
    "To do *this* we need to implement the [Document Symbols Request](https://microsoft.github.io/language-server-protocol/specifications/lsp/3.17/specification/#textDocument_documentSymbol) in the `ConTeXt-LangServer`. (See the [LanguageClient::text_document_document_symbol](https://github.com/openlawlibrary/pygls/blob/master/pygls/lsp/client.py#L771) request)"
   ]
  },
  {
   "cell_type": "markdown",
   "id": "d1983a2f-887a-4d32-bcea-e502abf28dfb",
   "metadata": {},
   "source": [
    "However, before we can get the `DocumentSymbols` we first need to provide the `ConTeXt-LangServer` with the document.\n",
    "\n",
    "To do *this* we need to inform the server of the document for which we want to get a structural overview. For an overview of this process, see the [TextDocument Synchronization](https://microsoft.github.io/language-server-protocol/specifications/lsp/3.17/specification/#textDocument_synchronization) section of the LSP specification.\n",
    "\n",
    "This means that the `ConTeXt-LangServer` needs to implement the [textDocument/didOpen](https://microsoft.github.io/language-server-protocol/specifications/lsp/3.17/specification/#textDocument_didOpen),  [textDocument/didChange](https://microsoft.github.io/language-server-protocol/specifications/lsp/3.17/specification/#textDocument_didChange) and [textDocument/didClose](https://microsoft.github.io/language-server-protocol/specifications/lsp/3.17/specification/#textDocument_didClose) requests (See the `LanguageClient` [text_document_did_open](https://github.com/openlawlibrary/pygls/blob/master/pygls/lsp/client.py#L1945), [text_document_did_change](https://github.com/openlawlibrary/pygls/blob/master/pygls/lsp/client.py#L1916) and [text_document_did_close](https://github.com/openlawlibrary/pygls/blob/master/pygls/lsp/client.py#L1927) respecitvely)."
   ]
  },
  {
   "cell_type": "markdown",
   "id": "71fcdd2c-159f-4380-9ff2-404b5728070b",
   "metadata": {},
   "source": [
    "Finally we close the LSP client (and its associated server)."
   ]
  },
  {
   "cell_type": "code",
   "execution_count": 5,
   "id": "0004b23c-0dc7-4c99-a2ac-d1e6dbb2b11a",
   "metadata": {},
   "outputs": [],
   "source": [
    "response = client.exit(None)"
   ]
  },
  {
   "cell_type": "code",
   "execution_count": null,
   "id": "16c9227a-905a-454b-8bdb-470c5a4e8978",
   "metadata": {},
   "outputs": [],
   "source": []
  }
 ],
 "metadata": {
  "kernelspec": {
   "display_name": "Python 3 (ipykernel)",
   "language": "python",
   "name": "python3"
  },
  "language_info": {
   "codemirror_mode": {
    "name": "ipython",
    "version": 3
   },
   "file_extension": ".py",
   "mimetype": "text/x-python",
   "name": "python",
   "nbconvert_exporter": "python",
   "pygments_lexer": "ipython3",
   "version": "3.11.1"
  }
 },
 "nbformat": 4,
 "nbformat_minor": 5
}
