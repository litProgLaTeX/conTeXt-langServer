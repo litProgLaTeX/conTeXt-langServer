{
 "cells": [
  {
   "cell_type": "code",
   "execution_count": 1,
   "id": "b4e243d4-ffbb-4bc6-a8ab-0b1138f9a7c7",
   "metadata": {},
   "outputs": [],
   "source": [
    "%run setupClient.py"
   ]
  },
  {
   "cell_type": "code",
   "execution_count": 2,
   "id": "d60dfae2-db2e-4667-9bcb-3ce2333577c5",
   "metadata": {},
   "outputs": [],
   "source": [
    "#print(client)"
   ]
  },
  {
   "cell_type": "code",
   "execution_count": 3,
   "id": "3f478100-e03f-4ad4-9ce5-0618f9a0d279",
   "metadata": {},
   "outputs": [],
   "source": [
    "await client.start_io('context-langserver', '--stdio')"
   ]
  },
  {
   "cell_type": "code",
   "execution_count": 4,
   "id": "48c80836-b8ad-47d9-b56b-aeda880a9778",
   "metadata": {},
   "outputs": [],
   "source": [
    "response = await client.initialize_async(InitializeParams(\n",
    "    capabilities=ClientCapabilities()\n",
    "))"
   ]
  },
  {
   "cell_type": "code",
   "execution_count": 5,
   "id": "2882f0fc-70f2-413b-850e-a073a92f865a",
   "metadata": {},
   "outputs": [],
   "source": [
    "#print(yaml.dump(response))"
   ]
  },
  {
   "cell_type": "code",
   "execution_count": 6,
   "id": "ad25e241-cffd-4305-a895-3f1e9619b340",
   "metadata": {},
   "outputs": [],
   "source": [
    "#response = await client.shutdown_async(None)"
   ]
  },
  {
   "cell_type": "code",
   "execution_count": 7,
   "id": "ebc1dec0-4c15-45f1-81c6-45890ded7d3e",
   "metadata": {},
   "outputs": [],
   "source": [
    "#print(yaml.dump(response))"
   ]
  },
  {
   "cell_type": "code",
   "execution_count": 8,
   "id": "6f207939-2588-4670-8675-b29de0b0148e",
   "metadata": {},
   "outputs": [],
   "source": [
    "#response = await client._server_exit()"
   ]
  },
  {
   "cell_type": "code",
   "execution_count": 9,
   "id": "a9834cdf-33de-4b14-b7e9-a15d9e6f9f8d",
   "metadata": {},
   "outputs": [],
   "source": [
    "#print(yaml.dump(response))"
   ]
  },
  {
   "cell_type": "code",
   "execution_count": 10,
   "id": "0004b23c-0dc7-4c99-a2ac-d1e6dbb2b11a",
   "metadata": {},
   "outputs": [],
   "source": [
    "response = client.exit(None)"
   ]
  },
  {
   "cell_type": "code",
   "execution_count": 11,
   "id": "1bc37b71-6859-472b-b71e-051dc10977c6",
   "metadata": {},
   "outputs": [
    {
     "name": "stdout",
     "output_type": "stream",
     "text": [
      "null\n",
      "...\n",
      "\n"
     ]
    }
   ],
   "source": [
    "print(yaml.dump(response))"
   ]
  },
  {
   "cell_type": "code",
   "execution_count": null,
   "id": "251cd439-c7ac-4631-b09f-0acb74f7bc70",
   "metadata": {},
   "outputs": [],
   "source": []
  }
 ],
 "metadata": {
  "kernelspec": {
   "display_name": "Python 3 (ipykernel)",
   "language": "python",
   "name": "python3"
  },
  "language_info": {
   "codemirror_mode": {
    "name": "ipython",
    "version": 3
   },
   "file_extension": ".py",
   "mimetype": "text/x-python",
   "name": "python",
   "nbconvert_exporter": "python",
   "pygments_lexer": "ipython3",
   "version": "3.11.1"
  }
 },
 "nbformat": 4,
 "nbformat_minor": 5
}
